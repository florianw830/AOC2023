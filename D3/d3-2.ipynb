{
 "cells": [
  {
   "cell_type": "code",
   "execution_count": 32,
   "metadata": {},
   "outputs": [],
   "source": [
    "from collections import defaultdict \n",
    "f = open(\"input.txt\", \"r\")\n",
    "l = f.read().split(\"\\n\")[:-1]\n",
    "l = [[y for y in x] for x in l]\n"
   ]
  },
  {
   "cell_type": "code",
   "execution_count": 33,
   "metadata": {},
   "outputs": [],
   "source": [
    "def findAdj(lst,y,x):\n",
    " \n",
    "    for i in range(-1,2):\n",
    "        for j in range(-1,2):\n",
    "            if (y+i,x+j) in lst:\n",
    "                return True,(y+i,x+j)\n",
    "    \n",
    "    return False,(-1,-1)\n",
    "\n",
    "def getAdj(lst,symPos):\n",
    "    retVal = []\n",
    "    for y in range(0,len(l)):\n",
    "        tmp = []\n",
    "        isAdj = False\n",
    "        adjPos = (-1,-1)\n",
    "        for x in range(0,len(l[i])):\n",
    "            if not lst[y][x].isnumeric():\n",
    "                if tmp != [] and isAdj == True:\n",
    "                    retVal.append((int(''.join(tmp)),str(adjPos)))\n",
    "                tmp =[]\n",
    "                isAdj = False\n",
    "                continue\n",
    "            if isAdj == False:\n",
    "                isAdj,adjPos = findAdj(symPos,y,x)\n",
    "\n",
    "            tmp.append(lst[y][x])\n",
    "        if tmp != [] and isAdj == True:\n",
    "            retVal.append((int(''.join(tmp)),str(adjPos)))\n",
    "\n",
    "    return retVal"
   ]
  },
  {
   "cell_type": "code",
   "execution_count": 34,
   "metadata": {},
   "outputs": [
    {
     "name": "stdout",
     "output_type": "stream",
     "text": [
      "['*']\n",
      "77509019\n"
     ]
    }
   ],
   "source": [
    "from collections import defaultdict \n",
    "dct = defaultdict(list)\n",
    "symbols = ['*']\n",
    "print(symbols)\n",
    "retVal = 0\n",
    "symPos = []\n",
    "for i in range(0,len(l)):\n",
    "    for j in range(0,len(l[i])):\n",
    "        if l[i][j] in symbols:\n",
    "            symPos.append((i,j))\n",
    "adj = getAdj(l,symPos)\n",
    "for a in adj:\n",
    "    if len(dct[a[1]])<2:\n",
    "        dct[a[1]].append(a[0])\n",
    "\n",
    "for key in dct:\n",
    "    if len(dct[key])==2:\n",
    "        retVal += dct[key][0]*dct[key][1]\n",
    "print(retVal)"
   ]
  }
 ],
 "metadata": {
  "kernelspec": {
   "display_name": "Python 3",
   "language": "python",
   "name": "python3"
  },
  "language_info": {
   "codemirror_mode": {
    "name": "ipython",
    "version": 3
   },
   "file_extension": ".py",
   "mimetype": "text/x-python",
   "name": "python",
   "nbconvert_exporter": "python",
   "pygments_lexer": "ipython3",
   "version": "3.11.5"
  }
 },
 "nbformat": 4,
 "nbformat_minor": 2
}
