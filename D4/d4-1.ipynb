{
 "cells": [
  {
   "cell_type": "code",
   "execution_count": 24,
   "metadata": {},
   "outputs": [],
   "source": [
    "from collections import defaultdict \n",
    "f = open(\"input.txt\", \"r\")\n",
    "l = f.read().split(\"\\n\")[:-1]\n",
    "l = [(x.split(\":\")[0].split(\" \")[1],x.split(\":\")[1].split(\"|\")[0].strip().replace(\"  \",\" \").split(\" \"),x.split(\":\")[1].split(\"|\")[1].strip().replace(\"  \",\" \").split(\" \")) for x in l]\n"
   ]
  },
  {
   "cell_type": "code",
   "execution_count": 25,
   "metadata": {},
   "outputs": [
    {
     "name": "stdout",
     "output_type": "stream",
     "text": [
      "19855\n"
     ]
    }
   ],
   "source": [
    "winningPoints = 0\n",
    "for x in l:\n",
    "    p = 0\n",
    "    for z in x[1]:\n",
    "        if z in x[2]:\n",
    "            if p== 0:\n",
    "                p=1\n",
    "            else:\n",
    "                p = p*2\n",
    "    winningPoints+=p\n",
    "print(winningPoints)\n"
   ]
  }
 ],
 "metadata": {
  "kernelspec": {
   "display_name": "Python 3",
   "language": "python",
   "name": "python3"
  },
  "language_info": {
   "codemirror_mode": {
    "name": "ipython",
    "version": 3
   },
   "file_extension": ".py",
   "mimetype": "text/x-python",
   "name": "python",
   "nbconvert_exporter": "python",
   "pygments_lexer": "ipython3",
   "version": "3.11.5"
  }
 },
 "nbformat": 4,
 "nbformat_minor": 2
}
