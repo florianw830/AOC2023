{
 "cells": [
  {
   "cell_type": "code",
   "execution_count": 20,
   "metadata": {},
   "outputs": [],
   "source": [
    "from collections import defaultdict \n",
    "f = open(\"input.txt\", \"r\")\n",
    "l = f.read().split(\"\\n\")[:-1]\n",
    "l = [(x.split(\":\")[0].split(\"d\")[1],x.split(\":\")[1].split(\"|\")[0].strip().replace(\"  \",\" \").split(\" \"),x.split(\":\")[1].split(\"|\")[1].strip().replace(\"  \",\" \").split(\" \")) for x in l]\n"
   ]
  },
  {
   "cell_type": "code",
   "execution_count": 22,
   "metadata": {},
   "outputs": [
    {
     "name": "stdout",
     "output_type": "stream",
     "text": [
      "10378710\n"
     ]
    }
   ],
   "source": [
    "from collections import defaultdict \n",
    "dct = defaultdict(list)\n",
    "countDct= defaultdict(list)\n",
    "for x in l:\n",
    "    countDct[int(x[0])] = 1\n",
    "\n",
    "for x in l:\n",
    "    p = len([k for k in x[1] if k in x[2]])\n",
    "    card = int(x[0])\n",
    "\n",
    "    for k in  [ z for z in range(card+1,card+p+1)]:\n",
    "        countDct[k] += countDct[card]*1\n",
    "\n",
    "s = 0\n",
    "for key in countDct:\n",
    "    s+= countDct[key]\n",
    "print(s)"
   ]
  }
 ],
 "metadata": {
  "kernelspec": {
   "display_name": "Python 3",
   "language": "python",
   "name": "python3"
  },
  "language_info": {
   "codemirror_mode": {
    "name": "ipython",
    "version": 3
   },
   "file_extension": ".py",
   "mimetype": "text/x-python",
   "name": "python",
   "nbconvert_exporter": "python",
   "pygments_lexer": "ipython3",
   "version": "3.11.5"
  }
 },
 "nbformat": 4,
 "nbformat_minor": 2
}
