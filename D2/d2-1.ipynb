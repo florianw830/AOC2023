{
 "cells": [
  {
   "cell_type": "code",
   "execution_count": 34,
   "metadata": {},
   "outputs": [
    {
     "name": "stdout",
     "output_type": "stream",
     "text": [
      "2162\n"
     ]
    }
   ],
   "source": [
    "from collections import defaultdict \n",
    "f = open(\"input.txt\", \"r\")\n",
    "l = f.read().split(\"\\n\")[:-1]\n",
    "d = defaultdict(int)\n",
    "d[\"red\"] = 12\n",
    "d[\"green\"] = 13\n",
    "d[\"blue\"] = 14\n",
    "retList = []\n",
    "for x in l:\n",
    "    id = int(x.split(\":\")[0].replace(\"Game \",\"\"))\n",
    "    retList.append(id)\n",
    "    tmp = [(z.strip().split(\" \")[1],int(z.strip().split(\" \")[0]))for z in x.split(\":\")[1].replace(\";\",\",\").split(\",\")]\n",
    "    \n",
    "    for k in tmp:\n",
    "        if d[k[0]]<k[1]:\n",
    "            retList.remove(id)\n",
    "            break\n",
    "\n",
    "print(sum(set(retList)))\n"
   ]
  }
 ],
 "metadata": {
  "kernelspec": {
   "display_name": "Python 3",
   "language": "python",
   "name": "python3"
  },
  "language_info": {
   "codemirror_mode": {
    "name": "ipython",
    "version": 3
   },
   "file_extension": ".py",
   "mimetype": "text/x-python",
   "name": "python",
   "nbconvert_exporter": "python",
   "pygments_lexer": "ipython3",
   "version": "3.11.5"
  }
 },
 "nbformat": 4,
 "nbformat_minor": 2
}
