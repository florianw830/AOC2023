{
 "cells": [
  {
   "cell_type": "code",
   "execution_count": 16,
   "metadata": {},
   "outputs": [
    {
     "name": "stdout",
     "output_type": "stream",
     "text": [
      "100\n",
      "72513\n"
     ]
    }
   ],
   "source": [
    "from collections import defaultdict \n",
    "f = open(\"input.txt\", \"r\")\n",
    "l = f.read().split(\"\\n\")[:-1]\n",
    "d = defaultdict(int)\n",
    "\n",
    "retList = []\n",
    "for x in l:\n",
    "\n",
    "    d[\"red\"] = 0\n",
    "    d[\"green\"] = 0\n",
    "    d[\"blue\"] = 0\n",
    "    id = int(x.split(\":\")[0].replace(\"Game \",\"\"))\n",
    "\n",
    "    tmp = [(z.strip().split(\" \")[1],int(z.strip().split(\" \")[0]))for z in x.split(\":\")[1].replace(\";\",\",\").split(\",\")]\n",
    "    for k in tmp:\n",
    "        if d[k[0]]<k[1]:\n",
    "            d[k[0]] = k[1]\n",
    "    pwr = d[\"red\"]*d[\"blue\"]*d[\"green\"]\n",
    "\n",
    "    retList.append(pwr)\n",
    "\n",
    "print(len(retList))\n",
    "print(sum(retList))\n",
    "\n"
   ]
  }
 ],
 "metadata": {
  "kernelspec": {
   "display_name": "Python 3",
   "language": "python",
   "name": "python3"
  },
  "language_info": {
   "codemirror_mode": {
    "name": "ipython",
    "version": 3
   },
   "file_extension": ".py",
   "mimetype": "text/x-python",
   "name": "python",
   "nbconvert_exporter": "python",
   "pygments_lexer": "ipython3",
   "version": "3.11.5"
  }
 },
 "nbformat": 4,
 "nbformat_minor": 2
}
