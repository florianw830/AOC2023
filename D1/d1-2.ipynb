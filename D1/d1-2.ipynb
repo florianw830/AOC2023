{
 "cells": [
  {
   "cell_type": "code",
   "execution_count": 189,
   "metadata": {},
   "outputs": [
    {
     "name": "stdout",
     "output_type": "stream",
     "text": [
      "55413\n"
     ]
    }
   ],
   "source": [
    "f = open(\"input.txt\", \"r\")\n",
    "l = f.read().split(\"\\n\")[:-1]\n",
    "ll=[]\n",
    "k =[\"one\",\"two\",\"three\",\"four\",\"five\",\"six\",\"seven\",\"eight\",\"nine\"]\n",
    "\n",
    "for x in l:\n",
    "    left = None\n",
    "    right = None\n",
    "    for i in range(0,len(x)):\n",
    "        if left != None:\n",
    "            break\n",
    "        if ord(x[i])-48 <=9:\n",
    "            left = x[i]\n",
    "            break\n",
    "        for ii in range(0,len(k)):\n",
    "            if k[ii] in x[:i+1]:\n",
    "                left = str(ii+1)\n",
    "                break\n",
    "\n",
    "    for j in range(len(x)-1,i-1,-1):\n",
    "\n",
    "        if right != None:\n",
    "            break\n",
    "\n",
    "        if ord(x[j])-48 <=9:\n",
    "            \n",
    "            right = x[j]\n",
    "            break\n",
    "        for ii in range(0,len(k)):\n",
    "            if k[ii] in x[j:]:\n",
    "                right = str(ii+1)\n",
    "                break\n",
    "    if left != None and right == None:\n",
    "        right = left\n",
    "    if left != None and right != None:\n",
    "        ll.append(int(left + right))\n",
    "    else :\n",
    "        ll.append(0)\n",
    "#for i in range(0,len(l)):\n",
    "#    print(l[i],ll[i])\n",
    "print(sum(ll))\n"
   ]
  },
  {
   "cell_type": "code",
   "execution_count": 146,
   "metadata": {},
   "outputs": [
    {
     "name": "stdout",
     "output_type": "stream",
     "text": [
      "a\n",
      "a\n",
      "\n",
      "e\n",
      "ee\n",
      "eee\n",
      "deee\n",
      "ddeee\n",
      "dddeee\n",
      "cdddeee\n",
      "ccdddeee\n",
      "cccdddeee\n",
      "bcccdddeee\n",
      "bbcccdddeee\n",
      "bbbcccdddeee\n",
      "abbbcccdddeee\n",
      "aabbbcccdddeee\n"
     ]
    }
   ],
   "source": [
    "test = \"aaabbbcccdddeee\"\n",
    "print(test[:1])\n",
    "print(test[0])\n",
    "for j in range(len(test),0,-1):\n",
    "    print(test[j:])"
   ]
  }
 ],
 "metadata": {
  "kernelspec": {
   "display_name": "Python 3",
   "language": "python",
   "name": "python3"
  },
  "language_info": {
   "codemirror_mode": {
    "name": "ipython",
    "version": 3
   },
   "file_extension": ".py",
   "mimetype": "text/x-python",
   "name": "python",
   "nbconvert_exporter": "python",
   "pygments_lexer": "ipython3",
   "version": "3.9.5"
  }
 },
 "nbformat": 4,
 "nbformat_minor": 2
}
