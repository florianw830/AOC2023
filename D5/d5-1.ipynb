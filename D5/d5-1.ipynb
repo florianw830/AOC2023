{
 "cells": [
  {
   "cell_type": "code",
   "execution_count": 47,
   "metadata": {},
   "outputs": [
    {
     "name": "stdout",
     "output_type": "stream",
     "text": [
      "[('seeds', [[79, 14, 55, 13]]), ('seed-to-soil map', [[50, 98, 2], [52, 50, 48]]), ('soil-to-fertilizer map', [[0, 15, 37], [37, 52, 2], [39, 0, 15]]), ('fertilizer-to-water map', [[49, 53, 8], [0, 11, 42], [42, 0, 7], [57, 7, 4]]), ('water-to-light map', [[88, 18, 7], [18, 25, 70]]), ('light-to-temperature map', [[45, 77, 23], [81, 45, 19], [68, 64, 13]]), ('temperature-to-humidity map', [[0, 69, 1], [1, 0, 69]]), ('humidity-to-location map', [[60, 56, 37], [56, 93, 4]])]\n"
     ]
    }
   ],
   "source": [
    "from collections import defaultdict \n",
    "f = open(\"input.txt\", \"r\")\n",
    "l = f.read().split(\"\\n\\n\")[:-1]\n",
    "l = [(x.split(\":\")[0],[[int(k) for k in y.split(\" \")] for y in x.split(\":\")[1].strip().split(\"\\n\")]) for x in l]\n",
    "print(l)"
   ]
  },
  {
   "cell_type": "code",
   "execution_count": 64,
   "metadata": {},
   "outputs": [
    {
     "name": "stdout",
     "output_type": "stream",
     "text": [
      "35\n"
     ]
    }
   ],
   "source": [
    "seeds = l[0][1][0]\n",
    "#print(seeds)\n",
    "\n",
    "ret = []\n",
    "for s in seeds:\n",
    "    #print(\"seed\", s)\n",
    "    tmp =[s]\n",
    "    dest = s\n",
    "    for i in range(1,len(l)):\n",
    "        \n",
    "        #dest = s\n",
    "        for j in range(0,len(l[i][1])):\n",
    "            frm =  l[i][1][j][1]\n",
    "            to =   l[i][1][j][0]\n",
    "            stp = l[i][1][j][2]\n",
    "            \n",
    "            if dest >= frm and dest<= frm+stp:\n",
    "                #print(frm, to , stp)\n",
    "                dest = to + (dest-frm)\n",
    "                break\n",
    "        #print(l[i][0],dest)\n",
    "        tmp.append(dest)\n",
    "    ret.append(tmp)\n",
    "lw = ret[0][-1]\n",
    "for k in ret:\n",
    "    if k[-1]<lw:\n",
    "        lw = k[-1]\n",
    "print(lw)\n",
    "\n",
    "#print(ret)\n",
    "            \n",
    "            \n",
    "        \n",
    "\n"
   ]
  }
 ],
 "metadata": {
  "kernelspec": {
   "display_name": "Python 3",
   "language": "python",
   "name": "python3"
  },
  "language_info": {
   "codemirror_mode": {
    "name": "ipython",
    "version": 3
   },
   "file_extension": ".py",
   "mimetype": "text/x-python",
   "name": "python",
   "nbconvert_exporter": "python",
   "pygments_lexer": "ipython3",
   "version": "3.11.5"
  }
 },
 "nbformat": 4,
 "nbformat_minor": 2
}
